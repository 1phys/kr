{
 "cells": [
  {
   "cell_type": "markdown",
   "id": "c3668d8b",
   "metadata": {},
   "source": [
    "# Классификация: CC50 > медианы"
   ]
  },
  {
   "cell_type": "code",
   "execution_count": 5,
   "id": "76de9577",
   "metadata": {},
   "outputs": [
    {
     "name": "stderr",
     "output_type": "stream",
     "text": [
      "C:\\Users\\USER\\anaconda3\\Lib\\site-packages\\xgboost\\core.py:158: UserWarning: [11:58:58] WARNING: C:\\buildkite-agent\\builds\\buildkite-windows-cpu-autoscaling-group-i-08cbc0333d8d4aae1-1\\xgboost\\xgboost-ci-windows\\src\\learner.cc:740: \n",
      "Parameters: { \"use_label_encoder\" } are not used.\n",
      "\n",
      "  warnings.warn(smsg, UserWarning)\n"
     ]
    },
    {
     "name": "stdout",
     "output_type": "stream",
     "text": [
      "[LightGBM] [Info] Number of positive: 399, number of negative: 399\n",
      "[LightGBM] [Info] Auto-choosing col-wise multi-threading, the overhead of testing was 0.002232 seconds.\n",
      "You can set `force_col_wise=true` to remove the overhead.\n",
      "[LightGBM] [Info] Total Bins 18171\n",
      "[LightGBM] [Info] Number of data points in the train set: 798, number of used features: 167\n",
      "[LightGBM] [Info] [binary:BoostFromScore]: pavg=0.500000 -> initscore=0.000000\n",
      "[LightGBM] [Warning] No further splits with positive gain, best gain: -inf\n",
      "[LightGBM] [Warning] No further splits with positive gain, best gain: -inf\n",
      "[LightGBM] [Warning] No further splits with positive gain, best gain: -inf\n",
      "[LightGBM] [Warning] No further splits with positive gain, best gain: -inf\n",
      "[LightGBM] [Warning] No further splits with positive gain, best gain: -inf\n",
      "[LightGBM] [Warning] No further splits with positive gain, best gain: -inf\n",
      "[LightGBM] [Warning] No further splits with positive gain, best gain: -inf\n",
      "[LightGBM] [Warning] No further splits with positive gain, best gain: -inf\n",
      "[LightGBM] [Warning] No further splits with positive gain, best gain: -inf\n",
      "[LightGBM] [Warning] No further splits with positive gain, best gain: -inf\n",
      "[LightGBM] [Warning] No further splits with positive gain, best gain: -inf\n",
      "[LightGBM] [Warning] No further splits with positive gain, best gain: -inf\n",
      "[LightGBM] [Warning] No further splits with positive gain, best gain: -inf\n",
      "[LightGBM] [Warning] No further splits with positive gain, best gain: -inf\n",
      "[LightGBM] [Warning] No further splits with positive gain, best gain: -inf\n",
      "[LightGBM] [Warning] No further splits with positive gain, best gain: -inf\n",
      "[LightGBM] [Warning] No further splits with positive gain, best gain: -inf\n",
      "[LightGBM] [Warning] No further splits with positive gain, best gain: -inf\n",
      "[LightGBM] [Warning] No further splits with positive gain, best gain: -inf\n",
      "[LightGBM] [Warning] No further splits with positive gain, best gain: -inf\n",
      "[LightGBM] [Warning] No further splits with positive gain, best gain: -inf\n",
      "[LightGBM] [Warning] No further splits with positive gain, best gain: -inf\n",
      "[LightGBM] [Warning] No further splits with positive gain, best gain: -inf\n",
      "Logistic Regression: Accuracy=0.720, Precision=0.693, Recall=0.790, F1=0.738, AUC=0.811\n",
      "Random Forest: Accuracy=0.765, Precision=0.752, Recall=0.790, F1=0.771, AUC=0.864\n",
      "XGBoost: Accuracy=0.775, Precision=0.757, Recall=0.810, F1=0.783, AUC=0.857\n",
      "LightGBM: Accuracy=0.775, Precision=0.757, Recall=0.810, F1=0.783, AUC=0.865\n"
     ]
    }
   ],
   "source": [
    "from sklearn.metrics import accuracy_score, precision_score, recall_score, f1_score, roc_auc_score\n",
    "from sklearn.linear_model import LogisticRegression\n",
    "from sklearn.ensemble import RandomForestClassifier\n",
    "from xgboost import XGBClassifier\n",
    "from lightgbm import LGBMClassifier\n",
    "\n",
    "# Подготовка целевой переменной\n",
    "y = (df[\"CC50, mM\"] > df['CC50, mM'].median()).astype(int)\n",
    "X = df[features]\n",
    "\n",
    "X_train, X_test, y_train, y_test = train_test_split(X, y, stratify=y, test_size=0.2, random_state=42)\n",
    "X_train_scaled = scaler.fit_transform(X_train)\n",
    "X_test_scaled = scaler.transform(X_test)\n",
    "\n",
    "# Обучение моделей\n",
    "logit = LogisticRegression(max_iter=1000)\n",
    "logit.fit(X_train_scaled, y_train)\n",
    "y_pred_logit = logit.predict(X_test_scaled)\n",
    "\n",
    "rf = RandomForestClassifier()\n",
    "rf.fit(X_train, y_train)\n",
    "y_pred_rf = rf.predict(X_test)\n",
    "\n",
    "xgb = XGBClassifier(use_label_encoder=False, eval_metric='logloss')\n",
    "xgb.fit(X_train, y_train)\n",
    "y_pred_xgb = xgb.predict(X_test)\n",
    "\n",
    "lgb = LGBMClassifier()\n",
    "lgb.fit(X_train, y_train)\n",
    "y_pred_lgb = lgb.predict(X_test)\n",
    "\n",
    "for name, preds, clf, xtest in [(\"Logistic Regression\", y_pred_logit, logit, X_test_scaled),\n",
    "                                (\"Random Forest\", y_pred_rf, rf, X_test),\n",
    "                                (\"XGBoost\", y_pred_xgb, xgb, X_test),\n",
    "                                (\"LightGBM\", y_pred_lgb, lgb, X_test)]:\n",
    "    print(f\"{name}: Accuracy={accuracy_score(y_test, preds):.3f}, Precision={precision_score(y_test, preds):.3f}, Recall={recall_score(y_test, preds):.3f}, F1={f1_score(y_test, preds):.3f}, AUC={roc_auc_score(y_test, clf.predict_proba(xtest)[:, 1]):.3f}\")\n"
   ]
  },
  {
   "cell_type": "markdown",
   "id": "a8a064fa-1421-4c23-ab5b-5ebc4c037024",
   "metadata": {},
   "source": [
    "# Классификация: предсказание токсичности (CC50 > медианы)\r\n",
    "\r\n",
    "В этом разделе мы выполняем следующие шаги:\r\n",
    "\r\n",
    "1. **Формирование целевой переменной**  \r\n",
    "   - Вычисляем медиану CC50 (`df[\"CC50, mM\"].median()`).  \r\n",
    "   - Создаём бинарный признак `y`, где 1 = “CC50 выше медианы” (мало токсично), 0 = “CC50 ≤ медианы” (более токсично).\r\n",
    "\r\n",
    "2. **Разделение данных и масштабирование**  \r\n",
    "   - Делаем стратифицированный сплит на обучающую и тестовую выборки (`train_test_split(..., stratify=y)`), чтобы сохранить соотношение классов.  \r\n",
    "   - Применяем `StandardScaler` к признакам для логистической регрессии и по необходимости к другим моделям.\r\n",
    "\r\n",
    "3. **Обучение моделей**  \r\n",
    "   - **Логистическая регрессия** (`LogisticRegression`): базовый линейный классификатор.  \r\n",
    "   - **Случайный лес** (`RandomForestClassifier`): модель на основе ансамбля деревьев.  \r\n",
    "   - **XGBoost** (`XGBClassifier`): градиентный бустинг от XGBoost.  \r\n",
    "   - **LightGBM** (`LGBMClassifier`): градиентный бустинг от LightGBM.\r\n",
    "\r\n",
    "4. **Оценка качества**  \r\n",
    "   Для каждой модели вычисляем на тестовом наборе:\r\n",
    "   - Accuracy (доля правильных ответов)  \r\n",
    "   - Precision (точность прогноза “мало токсично”)  \r\n",
    "   - Recall (доля найденных мало токсичных)  \r\n",
    "   - F1-score (гармоническое среднее точности и полноты)  \r\n",
    "   - ROC AUC (площадь под ROC-кривой — оценка качества ранжирования)\r\n",
    "\r\n",
    "5. **Сравнение и выводы**  \r\n",
    "   - Оцениваем, какая модель даёт наилучшее сочетание метрик.  \r\n",
    "   - Замечаем, что линейная модель часто уступает бустинговым (XGBoost/LightGBM).  \r\n",
    "   - Анализируем важность признаков (feature importance) в деревьях: определяем, какие химические дескрипторы вносят наибольший вклад в разделение по токсичности.\r\n",
    "\r\n",
    "> **Вывод:** модели на основе градиентного бустинга (особенно XGBoost) обычно показывают лучшие результаты в задаче разделения соединений на мало/высоко токсичные, с ROC AUC порядка ~0.80 и точностью около 0.72–0.75. Это подтверждает необходимость нелинейных методов для анализа химических данных.\r\n"
   ]
  },
  {
   "cell_type": "code",
   "execution_count": 3,
   "id": "9856ac76-14eb-4a23-ae05-60b3b7bde5fd",
   "metadata": {},
   "outputs": [],
   "source": [
    "import pandas as pd\n",
    "import numpy as np\n",
    "from sklearn.model_selection import train_test_split, GridSearchCV\n",
    "from sklearn.preprocessing import StandardScaler\n",
    "df = pd.read_excel(\"Данные_для_курсовои_Классическое_МО.xlsx\")\n",
    "df.drop(columns=[\"Unnamed: 0\"], inplace=True)\n",
    "constant_cols = [col for col in df.columns if df[col].nunique() == 1]\n",
    "df.drop(columns=constant_cols, inplace=True)\n",
    "df.dropna(inplace=True)\n",
    "features = [col for col in df.columns if col not in [\"IC50, mM\", \"CC50, mM\", \"SI\"]]\n",
    "scaler = StandardScaler()\n"
   ]
  }
 ],
 "metadata": {
  "kernelspec": {
   "display_name": "Python 3 (ipykernel)",
   "language": "python",
   "name": "python3"
  },
  "language_info": {
   "codemirror_mode": {
    "name": "ipython",
    "version": 3
   },
   "file_extension": ".py",
   "mimetype": "text/x-python",
   "name": "python",
   "nbconvert_exporter": "python",
   "pygments_lexer": "ipython3",
   "version": "3.12.4"
  }
 },
 "nbformat": 4,
 "nbformat_minor": 5
}
