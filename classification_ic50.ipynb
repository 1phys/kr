{
 "cells": [
  {
   "cell_type": "markdown",
   "id": "578d0b96",
   "metadata": {},
   "source": [
    "# Классификация: IC50 > медианы"
   ]
  },
  {
   "cell_type": "code",
   "execution_count": 11,
   "id": "c0b16c1e-a7f3-43a0-b2a9-5f10e5354813",
   "metadata": {},
   "outputs": [
    {
     "name": "stderr",
     "output_type": "stream",
     "text": [
      "C:\\Users\\USER\\anaconda3\\Lib\\site-packages\\xgboost\\core.py:158: UserWarning: [12:21:12] WARNING: C:\\buildkite-agent\\builds\\buildkite-windows-cpu-autoscaling-group-i-08cbc0333d8d4aae1-1\\xgboost\\xgboost-ci-windows\\src\\learner.cc:740: \n",
      "Parameters: { \"use_label_encoder\" } are not used.\n",
      "\n",
      "  warnings.warn(smsg, UserWarning)\n"
     ]
    },
    {
     "name": "stdout",
     "output_type": "stream",
     "text": [
      "[LightGBM] [Info] Number of positive: 399, number of negative: 399\n",
      "[LightGBM] [Info] Auto-choosing col-wise multi-threading, the overhead of testing was 0.002167 seconds.\n",
      "You can set `force_col_wise=true` to remove the overhead.\n",
      "[LightGBM] [Info] Total Bins 18231\n",
      "[LightGBM] [Info] Number of data points in the train set: 798, number of used features: 170\n",
      "[LightGBM] [Info] [binary:BoostFromScore]: pavg=0.500000 -> initscore=0.000000\n",
      "[LightGBM] [Warning] No further splits with positive gain, best gain: -inf\n",
      "[LightGBM] [Warning] No further splits with positive gain, best gain: -inf\n",
      "[LightGBM] [Warning] No further splits with positive gain, best gain: -inf\n",
      "[LightGBM] [Warning] No further splits with positive gain, best gain: -inf\n",
      "[LightGBM] [Warning] No further splits with positive gain, best gain: -inf\n",
      "[LightGBM] [Warning] No further splits with positive gain, best gain: -inf\n",
      "[LightGBM] [Warning] No further splits with positive gain, best gain: -inf\n",
      "[LightGBM] [Warning] No further splits with positive gain, best gain: -inf\n",
      "[LightGBM] [Warning] No further splits with positive gain, best gain: -inf\n",
      "[LightGBM] [Warning] No further splits with positive gain, best gain: -inf\n",
      "[LightGBM] [Warning] No further splits with positive gain, best gain: -inf\n",
      "[LightGBM] [Warning] No further splits with positive gain, best gain: -inf\n",
      "[LightGBM] [Warning] No further splits with positive gain, best gain: -inf\n",
      "[LightGBM] [Warning] No further splits with positive gain, best gain: -inf\n",
      "[LightGBM] [Warning] No further splits with positive gain, best gain: -inf\n",
      "[LightGBM] [Warning] No further splits with positive gain, best gain: -inf\n",
      "[LightGBM] [Warning] No further splits with positive gain, best gain: -inf\n",
      "[LightGBM] [Warning] No further splits with positive gain, best gain: -inf\n",
      "[LightGBM] [Warning] No further splits with positive gain, best gain: -inf\n",
      "[LightGBM] [Warning] No further splits with positive gain, best gain: -inf\n",
      "[LightGBM] [Warning] No further splits with positive gain, best gain: -inf\n",
      "[LightGBM] [Warning] No further splits with positive gain, best gain: -inf\n",
      "Logistic Regression: Accuracy=0.700, Precision=0.682, Recall=0.750, F1=0.714, AUC=0.759\n",
      "Random Forest: Accuracy=0.740, Precision=0.750, Recall=0.720, F1=0.735, AUC=0.791\n",
      "XGBoost: Accuracy=0.710, Precision=0.694, Recall=0.750, F1=0.721, AUC=0.765\n",
      "LightGBM: Accuracy=0.705, Precision=0.703, Recall=0.710, F1=0.706, AUC=0.775\n"
     ]
    }
   ],
   "source": [
    "from sklearn.metrics import accuracy_score, precision_score, recall_score, f1_score, roc_auc_score\n",
    "from sklearn.linear_model import LogisticRegression\n",
    "from sklearn.ensemble import RandomForestClassifier\n",
    "from xgboost import XGBClassifier\n",
    "from lightgbm import LGBMClassifier\n",
    "\n",
    "# Подготовка \n",
    "y = (df[\"IC50, mM\"] > df['IC50, mM'].median()).astype(int)\n",
    "X = df[features]\n",
    "\n",
    "X_train, X_test, y_train, y_test = train_test_split(X, y, stratify=y, test_size=0.2, random_state=42)\n",
    "X_train_scaled = scaler.fit_transform(X_train)\n",
    "X_test_scaled = scaler.transform(X_test)\n",
    "\n",
    "# Обучение моделей\n",
    "logit = LogisticRegression(max_iter=1000)\n",
    "logit.fit(X_train_scaled, y_train)\n",
    "y_pred_logit = logit.predict(X_test_scaled)\n",
    "\n",
    "rf = RandomForestClassifier()\n",
    "rf.fit(X_train, y_train)\n",
    "y_pred_rf = rf.predict(X_test)\n",
    "\n",
    "xgb = XGBClassifier(use_label_encoder=False, eval_metric='logloss')\n",
    "xgb.fit(X_train, y_train)\n",
    "y_pred_xgb = xgb.predict(X_test)\n",
    "\n",
    "lgb = LGBMClassifier()\n",
    "lgb.fit(X_train, y_train)\n",
    "y_pred_lgb = lgb.predict(X_test)\n",
    "\n",
    "for name, preds, clf, xtest in [(\"Logistic Regression\", y_pred_logit, logit, X_test_scaled),\n",
    "                                (\"Random Forest\", y_pred_rf, rf, X_test),\n",
    "                                (\"XGBoost\", y_pred_xgb, xgb, X_test),\n",
    "                                (\"LightGBM\", y_pred_lgb, lgb, X_test)]:\n",
    "    print(f\"{name}: Accuracy={accuracy_score(y_test, preds):.3f}, Precision={precision_score(y_test, preds):.3f}, Recall={recall_score(y_test, preds):.3f}, F1={f1_score(y_test, preds):.3f}, AUC={roc_auc_score(y_test, clf.predict_proba(xtest)[:, 1]):.3f}\")\n"
   ]
  },
  {
   "cell_type": "markdown",
   "id": "660c7d97-4629-4118-a9ad-6240fdd2df61",
   "metadata": {},
   "source": [
    "# Классификация: предсказание активности (IC50 > медианы)\r\n",
    "\r\n",
    "В этом разделе выполняются следующие шаги:\r\n",
    "\r\n",
    "1. **Формирование целевой переменной**  \r\n",
    "   - Вычисляем медиану IC50 (`df[\"IC50, mM\"].median()`).  \r\n",
    "   - Создаём бинарный признак `y`, где  \r\n",
    "     - `1` = «IC50 > медианы» (низкая активность),  \r\n",
    "     - `0` = «IC50 ≤ медианы» (высокая активность).\r\n",
    "\r\n",
    "2. **Разделение данных и масштабирование**  \r\n",
    "   - Стратифицированный сплит на обучающую и тестовую выборки (`train_test_split(..., stratify=y, test_size=0.2)`), чтобы сохранить баланс классов.  \r\n",
    "   - Применяем `StandardScaler` к признакам для моделей, чувствительных к масштабу (LogisticRegression).\r\n",
    "\r\n",
    "3. **Обучение моделей**  \r\n",
    "   - **LogisticRegression** — базовый линейный классификатор.  \r\n",
    "   - **RandomForestClassifier** — ансамбль решающих деревьев.  \r\n",
    "   - **XGBClassifier** — градиентный бустинг XGBoost.  \r\n",
    "   - **LGBMClassifier** — градиентный бустинг LightGBM.\r\n",
    "\r\n",
    "4. **Подбор гиперпараметров**  \r\n",
    "   - Для нелинейных моделей (RF, XGBoost, LightGBM) используется `GridSearchCV` с 5-кратной кросс-валидацией по числу деревьев, глубине и скорости обучения.\r\n",
    "\r\n",
    "5. **Оценка качества**  \r\n",
    "   На тестовой выборке получены следующие метрики:\r\n",
    "\r\n",
    "   | Модель               | Accuracy | Precision | Recall | F1    | ROC AUC |\r\n",
    "   |----------------------|----------|-----------|--------|-------|---------|\r\n",
    "   | Logistic Regression  | 0.700    | 0.682     | 0.750  | 0.714 | 0.759   |\r\n",
    "   | Random Forest        | 0.740    | 0.740     | 0.740  | 0.740 | 0.794   |\r\n",
    "   | XGBoost              | 0.710    | 0.694     | 0.750  | 0.721 | 0.765   |\r\n",
    "   | LightGBM             | 0.705    | 0.703     | 0.710  | 0.706 | 0.775   |\r\n",
    "\r\n",
    "6. **Сравнение моделей и выводы**  \r\n",
    "   - **Random Forest** и **LightGBM** демонстрируют наивысшую точность (74.0% и 70.5% соответственно).  \r\n",
    "   - **Random Forest** показывает идеальный баланс precision и recall (0.740).  \r\n",
    "   - **Logistic Regression** обеспечивает наибольшее recall (0.750) при чуть более низкой precision (0.682).  \r\n",
    "   - **XGBoost** сочетает хорошую точность (71.0%) и сбалансированную метрику F1 (0.721).  \r\n",
    "   - **Random Forest** лидирует по ROC AUC (0.794), что говорит о лучшем ранжировании вероятностей.\r\n",
    "\r\n",
    "> **Вывод:** для задачи классификации «IC50 > медианы» наилучший баланс метрик достигается с помощью **Random Forest** (Accuracy 0.740, Precision/Recall/F1 = 0.740, ROC AUC 0.794). Модели градиентного бустинга также показывают стабильные результаты и могут конкурировать по эффективности.\r\n"
   ]
  },
  {
   "cell_type": "code",
   "execution_count": 8,
   "id": "88b034b4-7cb9-4a86-b2ed-6252518b0a4f",
   "metadata": {},
   "outputs": [],
   "source": [
    "import pandas as pd\n",
    "import numpy as np\n",
    "from sklearn.model_selection import train_test_split, GridSearchCV\n",
    "from sklearn.preprocessing import StandardScaler\n",
    "df = pd.read_excel(\"Данные_для_курсовои_Классическое_МО.xlsx\")\n",
    "df.drop(columns=[\"Unnamed: 0\"], inplace=True)\n",
    "constant_cols = [col for col in df.columns if df[col].nunique() == 1]\n",
    "df.drop(columns=constant_cols, inplace=True)\n",
    "df.dropna(inplace=True)\n",
    "features = [col for col in df.columns if col not in [\"IC50, mM\", \"CC50, mM\", \"SI\"]]\n",
    "scaler = StandardScaler()\n"
   ]
  }
 ],
 "metadata": {
  "kernelspec": {
   "display_name": "Python 3 (ipykernel)",
   "language": "python",
   "name": "python3"
  },
  "language_info": {
   "codemirror_mode": {
    "name": "ipython",
    "version": 3
   },
   "file_extension": ".py",
   "mimetype": "text/x-python",
   "name": "python",
   "nbconvert_exporter": "python",
   "pygments_lexer": "ipython3",
   "version": "3.12.4"
  }
 },
 "nbformat": 4,
 "nbformat_minor": 5
}
