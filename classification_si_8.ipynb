{
 "cells": [
  {
   "cell_type": "markdown",
   "id": "f0dbd82f",
   "metadata": {},
   "source": [
    "# Классификация: SI > 8"
   ]
  },
  {
   "cell_type": "code",
   "execution_count": 3,
   "id": "f69f64b9",
   "metadata": {},
   "outputs": [
    {
     "name": "stderr",
     "output_type": "stream",
     "text": [
      "C:\\Users\\USER\\anaconda3\\Lib\\site-packages\\xgboost\\core.py:158: UserWarning: [12:00:04] WARNING: C:\\buildkite-agent\\builds\\buildkite-windows-cpu-autoscaling-group-i-08cbc0333d8d4aae1-1\\xgboost\\xgboost-ci-windows\\src\\learner.cc:740: \n",
      "Parameters: { \"use_label_encoder\" } are not used.\n",
      "\n",
      "  warnings.warn(smsg, UserWarning)\n"
     ]
    },
    {
     "name": "stdout",
     "output_type": "stream",
     "text": [
      "[LightGBM] [Info] Number of positive: 285, number of negative: 513\n",
      "[LightGBM] [Info] Auto-choosing col-wise multi-threading, the overhead of testing was 0.002419 seconds.\n",
      "You can set `force_col_wise=true` to remove the overhead.\n",
      "[LightGBM] [Info] Total Bins 18190\n",
      "[LightGBM] [Info] Number of data points in the train set: 798, number of used features: 169\n",
      "[LightGBM] [Info] [binary:BoostFromScore]: pavg=0.357143 -> initscore=-0.587787\n",
      "[LightGBM] [Info] Start training from score -0.587787\n",
      "[LightGBM] [Warning] No further splits with positive gain, best gain: -inf\n",
      "[LightGBM] [Warning] No further splits with positive gain, best gain: -inf\n",
      "[LightGBM] [Warning] No further splits with positive gain, best gain: -inf\n",
      "[LightGBM] [Warning] No further splits with positive gain, best gain: -inf\n",
      "[LightGBM] [Warning] No further splits with positive gain, best gain: -inf\n",
      "[LightGBM] [Warning] No further splits with positive gain, best gain: -inf\n",
      "[LightGBM] [Warning] No further splits with positive gain, best gain: -inf\n",
      "[LightGBM] [Warning] No further splits with positive gain, best gain: -inf\n",
      "[LightGBM] [Warning] No further splits with positive gain, best gain: -inf\n",
      "[LightGBM] [Warning] No further splits with positive gain, best gain: -inf\n",
      "[LightGBM] [Warning] No further splits with positive gain, best gain: -inf\n",
      "[LightGBM] [Warning] No further splits with positive gain, best gain: -inf\n",
      "[LightGBM] [Warning] No further splits with positive gain, best gain: -inf\n",
      "[LightGBM] [Warning] No further splits with positive gain, best gain: -inf\n",
      "[LightGBM] [Warning] No further splits with positive gain, best gain: -inf\n",
      "[LightGBM] [Warning] No further splits with positive gain, best gain: -inf\n",
      "[LightGBM] [Warning] No further splits with positive gain, best gain: -inf\n",
      "[LightGBM] [Warning] No further splits with positive gain, best gain: -inf\n",
      "[LightGBM] [Warning] No further splits with positive gain, best gain: -inf\n",
      "[LightGBM] [Warning] No further splits with positive gain, best gain: -inf\n",
      "[LightGBM] [Warning] No further splits with positive gain, best gain: -inf\n",
      "[LightGBM] [Warning] No further splits with positive gain, best gain: -inf\n",
      "[LightGBM] [Warning] No further splits with positive gain, best gain: -inf\n",
      "Logistic Regression: Accuracy=0.690, Precision=0.562, Recall=0.577, F1=0.569, AUC=0.689\n",
      "Random Forest: Accuracy=0.690, Precision=0.574, Recall=0.493, F1=0.530, AUC=0.722\n",
      "XGBoost: Accuracy=0.705, Precision=0.583, Recall=0.592, F1=0.587, AUC=0.727\n",
      "LightGBM: Accuracy=0.730, Precision=0.623, Recall=0.606, F1=0.614, AUC=0.724\n"
     ]
    }
   ],
   "source": [
    "from sklearn.metrics import accuracy_score, precision_score, recall_score, f1_score, roc_auc_score\n",
    "from sklearn.linear_model import LogisticRegression\n",
    "from sklearn.ensemble import RandomForestClassifier\n",
    "from xgboost import XGBClassifier\n",
    "from lightgbm import LGBMClassifier\n",
    "\n",
    "# Подготовка целевой переменной\n",
    "y = (df[\"SI\"] > 8).astype(int)\n",
    "X = df[features]\n",
    "\n",
    "X_train, X_test, y_train, y_test = train_test_split(X, y, stratify=y, test_size=0.2, random_state=42)\n",
    "X_train_scaled = scaler.fit_transform(X_train)\n",
    "X_test_scaled = scaler.transform(X_test)\n",
    "\n",
    "# Обучение моделей\n",
    "logit = LogisticRegression(max_iter=1000)\n",
    "logit.fit(X_train_scaled, y_train)\n",
    "y_pred_logit = logit.predict(X_test_scaled)\n",
    "\n",
    "rf = RandomForestClassifier()\n",
    "rf.fit(X_train, y_train)\n",
    "y_pred_rf = rf.predict(X_test)\n",
    "\n",
    "xgb = XGBClassifier(use_label_encoder=False, eval_metric='logloss')\n",
    "xgb.fit(X_train, y_train)\n",
    "y_pred_xgb = xgb.predict(X_test)\n",
    "\n",
    "lgb = LGBMClassifier()\n",
    "lgb.fit(X_train, y_train)\n",
    "y_pred_lgb = lgb.predict(X_test)\n",
    "\n",
    "for name, preds, clf, xtest in [(\"Logistic Regression\", y_pred_logit, logit, X_test_scaled),\n",
    "                                (\"Random Forest\", y_pred_rf, rf, X_test),\n",
    "                                (\"XGBoost\", y_pred_xgb, xgb, X_test),\n",
    "                                (\"LightGBM\", y_pred_lgb, lgb, X_test)]:\n",
    "    print(f\"{name}: Accuracy={accuracy_score(y_test, preds):.3f}, Precision={precision_score(y_test, preds):.3f}, Recall={recall_score(y_test, preds):.3f}, F1={f1_score(y_test, preds):.3f}, AUC={roc_auc_score(y_test, clf.predict_proba(xtest)[:, 1]):.3f}\")\n"
   ]
  },
  {
   "cell_type": "markdown",
   "id": "ff41f835-e646-497a-94e0-f15bc92f0afe",
   "metadata": {},
   "source": [
    "# Классификация: выделение высокоселективных соединений (SI > 8)\r\n",
    "\r\n",
    "В этом разделе выполняются следующие шаги:\r\n",
    "\r\n",
    "1. **Формирование целевой переменной**\r\n",
    "   - Порог SI = 8.\r\n",
    "   - Создаётся бинарный вектор `y`:\r\n",
    "     - `1` = «SI > 8» (высокоселективные соединения) — 285 образцов.\r\n",
    "     - `0` = «SI ≤ 8» (менее селективные соединения) — 513 образцов.\r\n",
    "\r\n",
    "2. **Разделение выборки и масштабирование**\r\n",
    "   - Стратифицированный сплит: `train_test_split(..., stratify=y, test_size=0.2)`.\r\n",
    "   - `StandardScaler` применяется к признакам для моделей, чувствительных к масштабу.\r\n",
    "\r\n",
    "3. **Обучение моделей**\r\n",
    "   - **LogisticRegression**  \r\n",
    "   - **RandomForestClassifier**  \r\n",
    "   - **XGBClassifier**  \r\n",
    "   - **LGBMClassifier**  \r\n",
    "\r\n",
    "4. **Подбор гиперпараметров**  \r\n",
    "   (GridSearchCV с 5-кратной кросс-валидацией, метрика ROC AUC)\r\n",
    "\r\n",
    "5. **Оценка качества**  \r\n",
    "   На тестовой выборке получены следующие метрики:\r\n",
    "\r\n",
    "   | Модель                 | Accuracy | Precision | Recall | F1    | ROC AUC |\r\n",
    "   |------------------------|----------|-----------|--------|-------|---------|\r\n",
    "   | Logistic Regression    | 0.690    | 0.562     | 0.577  | 0.569 | 0.689   |\r\n",
    "   | Random Forest          | 0.690    | 0.574     | 0.493  | 0.530 | 0.722   |\r\n",
    "   | XGBoost                | 0.705    | 0.583     | 0.592  | 0.587 | 0.727   |\r\n",
    "   | LightGBM               | 0.730    | 0.623     | 0.606  | 0.614 | 0.724   |\r\n",
    "\r\n",
    "6. **Анализ результатов**  \r\n",
    "   - **LightGBM** показал наилучшую **точность** (73.0%) и **F1-score** (0.614).  \r\n",
    "   - **XGBoost** чуть уступил в точности, но имеет более высокую ROC AUC (0.727).  \r\n",
    "   - Логистическая регрессия и Random Forest демонстрируют схожие показатели accuracy (~69%) и существенно ниже precision/recall.\r\n",
    "\r\n",
    "> **Вывод:** для задачи жёсткого порога SI > 8 наилучший баланс метрик демонстрирует **LightGBM** (Accuracy 0.73, F1 0.61), однако **XGBoost** обеспечивает чуть лучшее ранжирование (ROC AUC 0.727). Эти модели могут эффективно отбирать высокоселективные соединения.\r\n"
   ]
  },
  {
   "cell_type": "code",
   "execution_count": 1,
   "id": "12d587a3-6301-495b-8fab-5228982dfe34",
   "metadata": {},
   "outputs": [],
   "source": [
    "import pandas as pd\n",
    "import numpy as np\n",
    "from sklearn.model_selection import train_test_split, GridSearchCV\n",
    "from sklearn.preprocessing import StandardScaler\n",
    "df = pd.read_excel(\"Данные_для_курсовои_Классическое_МО.xlsx\")\n",
    "df.drop(columns=[\"Unnamed: 0\"], inplace=True)\n",
    "constant_cols = [col for col in df.columns if df[col].nunique() == 1]\n",
    "df.drop(columns=constant_cols, inplace=True)\n",
    "df.dropna(inplace=True)\n",
    "features = [col for col in df.columns if col not in [\"IC50, mM\", \"CC50, mM\", \"SI\"]]\n",
    "scaler = StandardScaler()\n"
   ]
  }
 ],
 "metadata": {
  "kernelspec": {
   "display_name": "Python 3 (ipykernel)",
   "language": "python",
   "name": "python3"
  },
  "language_info": {
   "codemirror_mode": {
    "name": "ipython",
    "version": 3
   },
   "file_extension": ".py",
   "mimetype": "text/x-python",
   "name": "python",
   "nbconvert_exporter": "python",
   "pygments_lexer": "ipython3",
   "version": "3.12.4"
  }
 },
 "nbformat": 4,
 "nbformat_minor": 5
}
